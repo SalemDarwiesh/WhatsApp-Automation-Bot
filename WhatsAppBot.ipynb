{
 "cells": [
  {
   "cell_type": "code",
   "execution_count": 79,
   "metadata": {},
   "outputs": [],
   "source": [
    "import pandas as pd\n",
    "import pyautogui\n",
    "import time\n",
    "import clipboard\n",
    "from PIL import Image\n",
    "import pytesseract"
   ]
  },
  {
   "cell_type": "code",
   "execution_count": 90,
   "metadata": {},
   "outputs": [
    {
     "name": "stdout",
     "output_type": "stream",
     "text": [
      "Message sent to 1002099399\n",
      "Results saved to Excel file.\n"
     ]
    }
   ],
   "source": [
    "# Load the Excel file with the phone numbers\n",
    "def load_phone_numbers(file_path):\n",
    "    df = pd.read_excel(file_path)\n",
    "    return df\n",
    "\n",
    "# Function to send WhatsApp message via Desktop app\n",
    "def send_whatsapp_desktop_message(phone_number, message):\n",
    "    # Step 1: Click on the New Chat button\n",
    "    pyautogui.click(x=1264, y=89)  # Coordinates for the New Chat button\n",
    "    time.sleep(1)\n",
    "\n",
    "    # Step 2: Type the phone number into the search bar\n",
    "    clipboard.copy(phone_number)  # Copy the phone number to clipboard\n",
    "    pyautogui.hotkey('ctrl', 'v')  # Paste the number\n",
    "    time.sleep(2)\n",
    "\n",
    "    # Step 3: Attempt to click on the first result in the search\n",
    "    pyautogui.click(x=1417, y=330)  # Coordinates for the first search result\n",
    "    time.sleep(2)\n",
    "\n",
    "    # Step 4: Click on the message box\n",
    "    pyautogui.click(x=1512, y=989)  # Coordinates for the message box\n",
    "    time.sleep(1)\n",
    "\n",
    "    # Step 5: Type the message\n",
    "    pyautogui.typewrite(message)\n",
    "    time.sleep(1)\n",
    "\n",
    "    # Step 6: Press Enter to send the message\n",
    "    pyautogui.press('enter')\n",
    "    print(f\"Message sent to {phone_number}\")\n",
    "    return True  # Indicate success\n",
    "\n",
    "def main():\n",
    "    # Path to the Excel file\n",
    "    file_path = r\"[FILE PATH]",
    "    \n",
    "    # Message to send\n",
    "    message = \"Hello, this is a test message!\"\n",
    "    \n",
    "    # Load the phone numbers\n",
    "    df = load_phone_numbers(file_path)\n",
    "    \n",
    "    # Filter the DataFrame to only include rows with empty 'Result' column\n",
    "    df_to_process = df[df['Result'].isnull()]\n",
    "\n",
    "    results = []\n",
    "\n",
    "    # Loop through the phone numbers that have not been processed yet\n",
    "    for phone_number in df_to_process['PhoneNumber']:\n",
    "        success = send_whatsapp_desktop_message(str(phone_number), message)\n",
    "        results.append(\"Message sent\" if success else \"Failed to send message\")\n",
    "        \n",
    "        # Add a delay between messages to avoid overwhelming WhatsApp\n",
    "        time.sleep(5)\n",
    "\n",
    "    # Add results to the DataFrame for those processed\n",
    "    df.loc[df['PhoneNumber'].isin(df_to_process['PhoneNumber']), 'Result'] = results\n",
    "\n",
    "    # Save the updated DataFrame back to the Excel file\n",
    "    df.to_excel(file_path, index=False)\n",
    "    print(\"Results saved to Excel file.\")\n",
    "\n",
    "if __name__ == \"__main__\":\n",
    "    main()"
   ]
  }
 ],
 "metadata": {
  "kernelspec": {
   "display_name": "Python 3",
   "language": "python",
   "name": "python3"
  },
  "language_info": {
   "codemirror_mode": {
    "name": "ipython",
    "version": 3
   },
   "file_extension": ".py",
   "mimetype": "text/x-python",
   "name": "python",
   "nbconvert_exporter": "python",
   "pygments_lexer": "ipython3",
   "version": "3.12.6"
  }
 },
 "nbformat": 4,
 "nbformat_minor": 2
}
